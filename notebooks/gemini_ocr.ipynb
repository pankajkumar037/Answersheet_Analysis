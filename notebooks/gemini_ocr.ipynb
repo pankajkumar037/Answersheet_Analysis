{
  "nbformat": 4,
  "nbformat_minor": 0,
  "metadata": {
    "colab": {
      "provenance": []
    },
    "kernelspec": {
      "name": "python3",
      "display_name": "Python 3"
    },
    "language_info": {
      "name": "python"
    }
  },
  "cells": [
    {
      "cell_type": "code",
      "execution_count": 8,
      "metadata": {
        "id": "797gNOnAWdLb"
      },
      "outputs": [],
      "source": [
        "from google.colab import userdata\n",
        "api_key=userdata.get('GOOGLE_API_KEY')"
      ]
    },
    {
      "cell_type": "code",
      "source": [
        "!pip install google-genai"
      ],
      "metadata": {
        "colab": {
          "base_uri": "https://localhost:8080/"
        },
        "collapsed": true,
        "id": "g5duzPGEXDn_",
        "outputId": "f2474e12-fd91-4b1f-cbfd-1c642ec53861"
      },
      "execution_count": 2,
      "outputs": [
        {
          "output_type": "stream",
          "name": "stdout",
          "text": [
            "Requirement already satisfied: google-genai in /usr/local/lib/python3.11/dist-packages (1.8.0)\n",
            "Requirement already satisfied: anyio<5.0.0,>=4.8.0 in /usr/local/lib/python3.11/dist-packages (from google-genai) (4.9.0)\n",
            "Requirement already satisfied: google-auth<3.0.0,>=2.14.1 in /usr/local/lib/python3.11/dist-packages (from google-genai) (2.38.0)\n",
            "Requirement already satisfied: httpx<1.0.0,>=0.28.1 in /usr/local/lib/python3.11/dist-packages (from google-genai) (0.28.1)\n",
            "Requirement already satisfied: pydantic<3.0.0,>=2.0.0 in /usr/local/lib/python3.11/dist-packages (from google-genai) (2.11.0)\n",
            "Requirement already satisfied: requests<3.0.0,>=2.28.1 in /usr/local/lib/python3.11/dist-packages (from google-genai) (2.32.3)\n",
            "Requirement already satisfied: websockets<15.1.0,>=13.0.0 in /usr/local/lib/python3.11/dist-packages (from google-genai) (15.0.1)\n",
            "Requirement already satisfied: typing-extensions<5.0.0,>=4.11.0 in /usr/local/lib/python3.11/dist-packages (from google-genai) (4.13.0)\n",
            "Requirement already satisfied: idna>=2.8 in /usr/local/lib/python3.11/dist-packages (from anyio<5.0.0,>=4.8.0->google-genai) (3.10)\n",
            "Requirement already satisfied: sniffio>=1.1 in /usr/local/lib/python3.11/dist-packages (from anyio<5.0.0,>=4.8.0->google-genai) (1.3.1)\n",
            "Requirement already satisfied: cachetools<6.0,>=2.0.0 in /usr/local/lib/python3.11/dist-packages (from google-auth<3.0.0,>=2.14.1->google-genai) (5.5.2)\n",
            "Requirement already satisfied: pyasn1-modules>=0.2.1 in /usr/local/lib/python3.11/dist-packages (from google-auth<3.0.0,>=2.14.1->google-genai) (0.4.2)\n",
            "Requirement already satisfied: rsa<5,>=3.1.4 in /usr/local/lib/python3.11/dist-packages (from google-auth<3.0.0,>=2.14.1->google-genai) (4.9)\n",
            "Requirement already satisfied: certifi in /usr/local/lib/python3.11/dist-packages (from httpx<1.0.0,>=0.28.1->google-genai) (2025.1.31)\n",
            "Requirement already satisfied: httpcore==1.* in /usr/local/lib/python3.11/dist-packages (from httpx<1.0.0,>=0.28.1->google-genai) (1.0.7)\n",
            "Requirement already satisfied: h11<0.15,>=0.13 in /usr/local/lib/python3.11/dist-packages (from httpcore==1.*->httpx<1.0.0,>=0.28.1->google-genai) (0.14.0)\n",
            "Requirement already satisfied: annotated-types>=0.6.0 in /usr/local/lib/python3.11/dist-packages (from pydantic<3.0.0,>=2.0.0->google-genai) (0.7.0)\n",
            "Requirement already satisfied: pydantic-core==2.33.0 in /usr/local/lib/python3.11/dist-packages (from pydantic<3.0.0,>=2.0.0->google-genai) (2.33.0)\n",
            "Requirement already satisfied: typing-inspection>=0.4.0 in /usr/local/lib/python3.11/dist-packages (from pydantic<3.0.0,>=2.0.0->google-genai) (0.4.0)\n",
            "Requirement already satisfied: charset-normalizer<4,>=2 in /usr/local/lib/python3.11/dist-packages (from requests<3.0.0,>=2.28.1->google-genai) (3.4.1)\n",
            "Requirement already satisfied: urllib3<3,>=1.21.1 in /usr/local/lib/python3.11/dist-packages (from requests<3.0.0,>=2.28.1->google-genai) (2.3.0)\n",
            "Requirement already satisfied: pyasn1<0.7.0,>=0.6.1 in /usr/local/lib/python3.11/dist-packages (from pyasn1-modules>=0.2.1->google-auth<3.0.0,>=2.14.1->google-genai) (0.6.1)\n"
          ]
        }
      ]
    },
    {
      "cell_type": "code",
      "source": [
        "import google.generativeai as genai\n",
        "from PIL import Image\n",
        "\n",
        "genai.configure(api_key=api_key)\n",
        "\n",
        "model = genai.GenerativeModel(\"gemini-2.0-flash\")"
      ],
      "metadata": {
        "id": "cs5sZP0dZocN"
      },
      "execution_count": 12,
      "outputs": []
    },
    {
      "cell_type": "code",
      "source": [
        "#for Answersheet"
      ],
      "metadata": {
        "id": "gLUACp4XZ0xM"
      },
      "execution_count": 13,
      "outputs": []
    },
    {
      "cell_type": "code",
      "source": [
        "prompt_answersheet = f\"\"\"\n",
        "Analyse precisely and do not hellusinate.Give question number and their Marks obtained in json format.consider that Question numbsr only which has Obtained marks handwritten,.Do not wite null or anything just laeve that .Give output in json format\n",
        "ignore total marks section\n",
        "\"\"\""
      ],
      "metadata": {
        "id": "6wNS8TtOaN6y"
      },
      "execution_count": 15,
      "outputs": []
    },
    {
      "cell_type": "code",
      "source": [
        "def get_response(image_path, prompt):\n",
        "  image = Image.open(image_path)\n",
        "\n",
        "  # Generate a textual response from the image\n",
        "  response = model.generate_content([image, prompt])\n",
        "\n",
        "  # Print the description\n",
        "  return response.text"
      ],
      "metadata": {
        "id": "X7NAa5DzXDkv"
      },
      "execution_count": 32,
      "outputs": []
    },
    {
      "cell_type": "code",
      "source": [
        "image_path = \"/content/answer_sheet_1.jpg\"\n",
        "Answersheet=get_response(image_path, prompt_answersheet)"
      ],
      "metadata": {
        "id": "SF3hKsA7XDis"
      },
      "execution_count": 20,
      "outputs": []
    },
    {
      "cell_type": "code",
      "source": [
        "print(Answersheet)"
      ],
      "metadata": {
        "colab": {
          "base_uri": "https://localhost:8080/"
        },
        "id": "-nBmNrKKXDgr",
        "outputId": "25bad971-2162-460d-c6d5-9313659cf9f2"
      },
      "execution_count": 21,
      "outputs": [
        {
          "output_type": "stream",
          "name": "stdout",
          "text": [
            "```json\n",
            "{\n",
            "    \"1\": \"10\",\n",
            "    \"2\": \"2\",\n",
            "    \"3\": \"3\",\n",
            "    \"4\": \"0\"\n",
            "}\n",
            "```\n"
          ]
        }
      ]
    },
    {
      "cell_type": "code",
      "source": [
        "#for Question Paper"
      ],
      "metadata": {
        "id": "vBDICX0lXDez"
      },
      "execution_count": null,
      "outputs": []
    },
    {
      "cell_type": "code",
      "source": [
        "prompt_Question = f\"\"\"\n",
        "Analyse the Given question Paper.Give questions and theirs max marks in json format if a  question has more than one subpart then give  question as their subpart but max maarks of combined below that whole subpart.Give output in json format\n",
        "\"\"\""
      ],
      "metadata": {
        "id": "NSZAvD4bXDc7"
      },
      "execution_count": 40,
      "outputs": []
    },
    {
      "cell_type": "code",
      "source": [
        "image_path_qn = \"/content/test_paper_1.jpg\"\n",
        "Question_Paper=get_response(image_path_qn, prompt_Question)"
      ],
      "metadata": {
        "id": "CSC2Ql5WXDan"
      },
      "execution_count": 41,
      "outputs": []
    },
    {
      "cell_type": "code",
      "source": [
        "print(Question_Paper)"
      ],
      "metadata": {
        "colab": {
          "base_uri": "https://localhost:8080/"
        },
        "id": "V0gk7OdJXDYr",
        "outputId": "3b1d1363-c7ea-4b14-9473-7acdf1160aef"
      },
      "execution_count": 42,
      "outputs": [
        {
          "output_type": "stream",
          "name": "stdout",
          "text": [
            "```json\n",
            "{\n",
            "    \"questions\": [\n",
            "        {\n",
            "            \"Q1a\": \"RTL is used to describe...\",\n",
            "            \"Q1b\": \"Sign of the number is preserved in ... shift micro-operation.\",\n",
            "            \"Q1c\": \"PC contains the address of ...\",\n",
            "            \"Q1d\": \"What decisions are made in computer organization?\",\n",
            "            \"Q1e\": \"Convert (568)10->()2->()->()16\",\n",
            "            \"Q1f\": \"Define micro-operation and cite an example of micro-operation.\",\n",
            "            \"Q1g\": \"Differentiate fixed point and floating point representation.\",\n",
            "            \"Q1h\": \"Why extra memory reference is needed in indirect memory address instruction?\",\n",
            "            \"Q1i\": \"Write the instruction to load and store accumulator register?\",\n",
            "            \"Q1j\": \"How I bit classify the type of instruction?\",\n",
            "            \"max_marks\": 15\n",
            "        },\n",
            "        {\n",
            "            \"Q2\": \"With the help of flow diagram discuss instruction execution cycle.\",\n",
            "            \"max_marks\": 5\n",
            "        },\n",
            "        {\n",
            "            \"Q3\": \"Present a report on the use of common bus system for data transfer? Illustrate data transfer using common bus system through example.\",\n",
            "            \"max_marks\": 6\n",
            "        },\n",
            "        {\n",
            "            \"Q4\": \"Explain memory reference and register reference instructions with suitable examples.\",\n",
            "            \"max_marks\": 4\n",
            "        }\n",
            "    ]\n",
            "}\n",
            "```\n"
          ]
        }
      ]
    },
    {
      "cell_type": "code",
      "source": [],
      "metadata": {
        "id": "sFI0VJIeXDWW"
      },
      "execution_count": null,
      "outputs": []
    },
    {
      "cell_type": "code",
      "source": [
        "#Combining Both of two"
      ],
      "metadata": {
        "id": "QYIPZKp4XDUT"
      },
      "execution_count": 43,
      "outputs": []
    },
    {
      "cell_type": "code",
      "source": [
        "#few sort prompting for model\n",
        "outputs=\"\"\"\n",
        "\n",
        "{\n",
        "  \"questions\": [\n",
        "    {\n",
        "      \"question_number\": \"Q1\",\n",
        "      \"description\": \"Instruction execution cycle\",\n",
        "      \"max_marks\": 5,\n",
        "      \"marks_obtained\": 2\n",
        "    }\n",
        "  ]\n",
        "}\n",
        "\"\"\"\n",
        "\n",
        "\n",
        "prompt_combining_ocr=f\"\"\"\n",
        "  You are given two JSON objects: {Answersheet}` and :{Question_Paper}.\n",
        "\n",
        "- {Question_Paper} contains a list of questions, subparts, descriptions, and maximum marks.\n",
        "- {Answersheet}contains the marks obtained for each question.\n",
        "\n",
        "Your task is to merge these two JSONs and give output only json object.\n",
        "\n",
        "Return a **single valid JSON object** with all questions, subparts, `\"max_marks\"`, and `\"marks_obtained\"`.\n",
        "\n",
        "yout output will be like {outputs} .you will give just output not code\n",
        "\n",
        "\n",
        "\"\"\""
      ],
      "metadata": {
        "id": "coFTgp0QXDR9"
      },
      "execution_count": 44,
      "outputs": []
    },
    {
      "cell_type": "code",
      "source": [
        "combined_res= model.generate_content(prompt_combining_ocr).text"
      ],
      "metadata": {
        "id": "q3eAfDI5dEoi"
      },
      "execution_count": 49,
      "outputs": []
    },
    {
      "cell_type": "code",
      "source": [
        "print(combined_res)"
      ],
      "metadata": {
        "colab": {
          "base_uri": "https://localhost:8080/"
        },
        "id": "8quxs03udElK",
        "outputId": "139a648d-7283-4370-ad52-283e130c6bf7"
      },
      "execution_count": 50,
      "outputs": [
        {
          "output_type": "stream",
          "name": "stdout",
          "text": [
            "```json\n",
            "{\n",
            "  \"questions\": [\n",
            "    {\n",
            "      \"Q1a\": \"RTL is used to describe...\",\n",
            "      \"Q1b\": \"Sign of the number is preserved in ... shift micro-operation.\",\n",
            "      \"Q1c\": \"PC contains the address of ...\",\n",
            "      \"Q1d\": \"What decisions are made in computer organization?\",\n",
            "      \"Q1e\": \"Convert (568)10->()2->()->()16\",\n",
            "      \"Q1f\": \"Define micro-operation and cite an example of micro-operation.\",\n",
            "      \"Q1g\": \"Differentiate fixed point and floating point representation.\",\n",
            "      \"Q1h\": \"Why extra memory reference is needed in indirect memory address instruction?\",\n",
            "      \"Q1i\": \"Write the instruction to load and store accumulator register?\",\n",
            "      \"Q1j\": \"How I bit classify the type of instruction?\",\n",
            "      \"max_marks\": 15,\n",
            "      \"marks_obtained\": 10\n",
            "    },\n",
            "    {\n",
            "      \"Q2\": \"With the help of flow diagram discuss instruction execution cycle.\",\n",
            "      \"max_marks\": 5,\n",
            "      \"marks_obtained\": 2\n",
            "    },\n",
            "    {\n",
            "      \"Q3\": \"Present a report on the use of common bus system for data transfer? Illustrate data transfer using common bus system through example.\",\n",
            "      \"max_marks\": 6,\n",
            "      \"marks_obtained\": 3\n",
            "    },\n",
            "    {\n",
            "      \"Q4\": \"Explain memory reference and register reference instructions with suitable examples.\",\n",
            "      \"max_marks\": 4,\n",
            "      \"marks_obtained\": 0\n",
            "    }\n",
            "  ]\n",
            "}\n",
            "```\n"
          ]
        }
      ]
    },
    {
      "cell_type": "code",
      "source": [],
      "metadata": {
        "id": "XL_-D1r8de1K"
      },
      "execution_count": null,
      "outputs": []
    },
    {
      "cell_type": "code",
      "source": [
        "#fnal answer"
      ],
      "metadata": {
        "id": "YIa46zC4dex9"
      },
      "execution_count": null,
      "outputs": []
    },
    {
      "cell_type": "code",
      "source": [
        "prompt_final=f\"just tell me the topic and araange them according to obtained marks in ascending order considering this {combined_res}\""
      ],
      "metadata": {
        "id": "hdn-82Rgdevs"
      },
      "execution_count": 51,
      "outputs": []
    },
    {
      "cell_type": "code",
      "source": [
        "final= model.generate_content(prompt_final).text"
      ],
      "metadata": {
        "id": "EOGf-ZkAdEjA"
      },
      "execution_count": 52,
      "outputs": []
    },
    {
      "cell_type": "code",
      "source": [
        "print(final)"
      ],
      "metadata": {
        "colab": {
          "base_uri": "https://localhost:8080/"
        },
        "id": "4XFRi1mKeABE",
        "outputId": "a815ec06-11c9-40ff-d0e8-f38767d17ee3"
      },
      "execution_count": 53,
      "outputs": [
        {
          "output_type": "stream",
          "name": "stdout",
          "text": [
            "Here's the topic list, ordered by ascending marks obtained:\n",
            "\n",
            "1.  **Q4**: Explain memory reference and register reference instructions with suitable examples. (Marks: 0)\n",
            "2.  **Q2**: With the help of flow diagram discuss instruction execution cycle. (Marks: 2)\n",
            "3.  **Q3**: Present a report on the use of common bus system for data transfer? Illustrate data transfer using common bus system through example. (Marks: 3)\n",
            "4.  **Q1a-Q1j**: Various short answer questions covering RTL, shift operations, PC content, computer organization decisions, number conversions, micro-operations, fixed vs floating point, indirect addressing, load/store instructions, instruction type classification. (Marks: 10)\n",
            "\n"
          ]
        }
      ]
    },
    {
      "cell_type": "code",
      "source": [],
      "metadata": {
        "id": "qqujaAqhd_9y"
      },
      "execution_count": null,
      "outputs": []
    }
  ]
}